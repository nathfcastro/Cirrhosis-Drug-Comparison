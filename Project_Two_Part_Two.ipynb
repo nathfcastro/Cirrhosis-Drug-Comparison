{
  "nbformat": 4,
  "nbformat_minor": 0,
  "metadata": {
    "colab": {
      "provenance": [],
      "authorship_tag": "ABX9TyPJBDRJ8BxPyn+ScAnStJTZ",
      "include_colab_link": true
    },
    "kernelspec": {
      "name": "python3",
      "display_name": "Python 3"
    },
    "language_info": {
      "name": "python"
    }
  },
  "cells": [
    {
      "cell_type": "markdown",
      "metadata": {
        "id": "view-in-github",
        "colab_type": "text"
      },
      "source": [
        "<a href=\"https://colab.research.google.com/github/nathfcastro/PROJECT-TWO-/blob/main/Project_Two_Part_Two.ipynb\" target=\"_parent\"><img src=\"https://colab.research.google.com/assets/colab-badge.svg\" alt=\"Open In Colab\"/></a>"
      ]
    },
    {
      "cell_type": "markdown",
      "source": [
        "# Project Two Part One \n",
        "Student Name: Nathalie Castro "
      ],
      "metadata": {
        "id": "BNvLb_5xT8Er"
      }
    },
    {
      "cell_type": "markdown",
      "source": [
        "Whether you chose 2 pre-approved datasets or 2 datasets from another source, or one of each:\n",
        "\n",
        "Create a notebook where you have uploaded and shown the .head() of each of your data sets. For each of the proposed datasets, include the following information in text cells:\n",
        "\n",
        "**First choice: dataset 1**\n",
        "> 1. Source of data\n",
        ">2. Brief description of data\n",
        ">3. What is the target?\n",
        ">4. What does one row represent? (A person?  A business?  An event? A product?)\n",
        ">5. Is this a classification or regression problem?\n",
        ">6. How many features does the data have?\n",
        ">7. How many rows are in the dataset?\n",
        ">8. What, if any, challenges do you foresee in cleaning, exploring, or modeling this dataset?\n",
        "\n",
        "**Second choice: dataset 2**\n",
        ">1. Source of data\n",
        ">2. Brief description of data\n",
        ">3. What is the target?\n",
        ">4. What does one row represent? (A person?  A business?  An event? A product?)\n",
        ">5. Is this a classification or regression problem?\n",
        ">6. How many features does the data have?\n",
        ">7. How many rows are in the dataset?\n",
        ">8. What, if any, challenges do you foresee in cleaning, exploring, or modeling this dataset?"
      ],
      "metadata": {
        "id": "1nGd6QcSUPwm"
      }
    },
    {
      "cell_type": "markdown",
      "source": [
        "# Data Set One: Cirrhosis"
      ],
      "metadata": {
        "id": "_xbq_2EFdsbu"
      }
    },
    {
      "cell_type": "code",
      "execution_count": 27,
      "metadata": {
        "id": "mW1stA3WTSia"
      },
      "outputs": [],
      "source": [
        "# Imports\n",
        "import numpy as np\n",
        "import pandas as pd\n",
        "import seaborn as sns\n",
        "import matplotlib.pyplot as plt\n",
        "from lightgbm import LGBMClassifier\n",
        "from sklearn import set_config\n",
        "from sklearn.decomposition import PCA\n",
        "from sklearn.ensemble import RandomForestClassifier, GradientBoostingClassifier\n",
        "from sklearn.compose import make_column_transformer, make_column_selector\n",
        "from sklearn.metrics import accuracy_score, f1_score, precision_score, recall_score\n",
        "from sklearn.model_selection import train_test_split, GridSearchCV\n",
        "from sklearn.pipeline import make_pipeline\n",
        "from xgboost import XGBClassifier\n",
        "set_config(display=\"text\")"
      ]
    },
    {
      "cell_type": "code",
      "source": [
        "filename = '/content/cirrhosis.csv'\n",
        "cirrhosis = pd.read_csv(filename)\n",
        "cirrhosis.head()"
      ],
      "metadata": {
        "colab": {
          "base_uri": "https://localhost:8080/",
          "height": 206
        },
        "id": "C__V2jX4UtIz",
        "outputId": "6554afad-67d3-41ae-ea4c-81f5211eabe7"
      },
      "execution_count": 4,
      "outputs": [
        {
          "output_type": "execute_result",
          "data": {
            "text/plain": [
              "   ID  N_Days Status             Drug    Age Sex Ascites Hepatomegaly Spiders  \\\n",
              "0   1     400      D  D-penicillamine  21464   F       Y            Y       Y   \n",
              "1   2    4500      C  D-penicillamine  20617   F       N            Y       Y   \n",
              "2   3    1012      D  D-penicillamine  25594   M       N            N       N   \n",
              "3   4    1925      D  D-penicillamine  19994   F       N            Y       Y   \n",
              "4   5    1504     CL          Placebo  13918   F       N            Y       Y   \n",
              "\n",
              "  Edema  Bilirubin  Cholesterol  Albumin  Copper  Alk_Phos    SGOT  \\\n",
              "0     Y       14.5        261.0     2.60   156.0    1718.0  137.95   \n",
              "1     N        1.1        302.0     4.14    54.0    7394.8  113.52   \n",
              "2     S        1.4        176.0     3.48   210.0     516.0   96.10   \n",
              "3     S        1.8        244.0     2.54    64.0    6121.8   60.63   \n",
              "4     N        3.4        279.0     3.53   143.0     671.0  113.15   \n",
              "\n",
              "   Tryglicerides  Platelets  Prothrombin  Stage  \n",
              "0          172.0      190.0         12.2    4.0  \n",
              "1           88.0      221.0         10.6    3.0  \n",
              "2           55.0      151.0         12.0    4.0  \n",
              "3           92.0      183.0         10.3    4.0  \n",
              "4           72.0      136.0         10.9    3.0  "
            ],
            "text/html": [
              "\n",
              "  <div id=\"df-1c8abe21-853d-442c-80f1-0de598e348fa\">\n",
              "    <div class=\"colab-df-container\">\n",
              "      <div>\n",
              "<style scoped>\n",
              "    .dataframe tbody tr th:only-of-type {\n",
              "        vertical-align: middle;\n",
              "    }\n",
              "\n",
              "    .dataframe tbody tr th {\n",
              "        vertical-align: top;\n",
              "    }\n",
              "\n",
              "    .dataframe thead th {\n",
              "        text-align: right;\n",
              "    }\n",
              "</style>\n",
              "<table border=\"1\" class=\"dataframe\">\n",
              "  <thead>\n",
              "    <tr style=\"text-align: right;\">\n",
              "      <th></th>\n",
              "      <th>ID</th>\n",
              "      <th>N_Days</th>\n",
              "      <th>Status</th>\n",
              "      <th>Drug</th>\n",
              "      <th>Age</th>\n",
              "      <th>Sex</th>\n",
              "      <th>Ascites</th>\n",
              "      <th>Hepatomegaly</th>\n",
              "      <th>Spiders</th>\n",
              "      <th>Edema</th>\n",
              "      <th>Bilirubin</th>\n",
              "      <th>Cholesterol</th>\n",
              "      <th>Albumin</th>\n",
              "      <th>Copper</th>\n",
              "      <th>Alk_Phos</th>\n",
              "      <th>SGOT</th>\n",
              "      <th>Tryglicerides</th>\n",
              "      <th>Platelets</th>\n",
              "      <th>Prothrombin</th>\n",
              "      <th>Stage</th>\n",
              "    </tr>\n",
              "  </thead>\n",
              "  <tbody>\n",
              "    <tr>\n",
              "      <th>0</th>\n",
              "      <td>1</td>\n",
              "      <td>400</td>\n",
              "      <td>D</td>\n",
              "      <td>D-penicillamine</td>\n",
              "      <td>21464</td>\n",
              "      <td>F</td>\n",
              "      <td>Y</td>\n",
              "      <td>Y</td>\n",
              "      <td>Y</td>\n",
              "      <td>Y</td>\n",
              "      <td>14.5</td>\n",
              "      <td>261.0</td>\n",
              "      <td>2.60</td>\n",
              "      <td>156.0</td>\n",
              "      <td>1718.0</td>\n",
              "      <td>137.95</td>\n",
              "      <td>172.0</td>\n",
              "      <td>190.0</td>\n",
              "      <td>12.2</td>\n",
              "      <td>4.0</td>\n",
              "    </tr>\n",
              "    <tr>\n",
              "      <th>1</th>\n",
              "      <td>2</td>\n",
              "      <td>4500</td>\n",
              "      <td>C</td>\n",
              "      <td>D-penicillamine</td>\n",
              "      <td>20617</td>\n",
              "      <td>F</td>\n",
              "      <td>N</td>\n",
              "      <td>Y</td>\n",
              "      <td>Y</td>\n",
              "      <td>N</td>\n",
              "      <td>1.1</td>\n",
              "      <td>302.0</td>\n",
              "      <td>4.14</td>\n",
              "      <td>54.0</td>\n",
              "      <td>7394.8</td>\n",
              "      <td>113.52</td>\n",
              "      <td>88.0</td>\n",
              "      <td>221.0</td>\n",
              "      <td>10.6</td>\n",
              "      <td>3.0</td>\n",
              "    </tr>\n",
              "    <tr>\n",
              "      <th>2</th>\n",
              "      <td>3</td>\n",
              "      <td>1012</td>\n",
              "      <td>D</td>\n",
              "      <td>D-penicillamine</td>\n",
              "      <td>25594</td>\n",
              "      <td>M</td>\n",
              "      <td>N</td>\n",
              "      <td>N</td>\n",
              "      <td>N</td>\n",
              "      <td>S</td>\n",
              "      <td>1.4</td>\n",
              "      <td>176.0</td>\n",
              "      <td>3.48</td>\n",
              "      <td>210.0</td>\n",
              "      <td>516.0</td>\n",
              "      <td>96.10</td>\n",
              "      <td>55.0</td>\n",
              "      <td>151.0</td>\n",
              "      <td>12.0</td>\n",
              "      <td>4.0</td>\n",
              "    </tr>\n",
              "    <tr>\n",
              "      <th>3</th>\n",
              "      <td>4</td>\n",
              "      <td>1925</td>\n",
              "      <td>D</td>\n",
              "      <td>D-penicillamine</td>\n",
              "      <td>19994</td>\n",
              "      <td>F</td>\n",
              "      <td>N</td>\n",
              "      <td>Y</td>\n",
              "      <td>Y</td>\n",
              "      <td>S</td>\n",
              "      <td>1.8</td>\n",
              "      <td>244.0</td>\n",
              "      <td>2.54</td>\n",
              "      <td>64.0</td>\n",
              "      <td>6121.8</td>\n",
              "      <td>60.63</td>\n",
              "      <td>92.0</td>\n",
              "      <td>183.0</td>\n",
              "      <td>10.3</td>\n",
              "      <td>4.0</td>\n",
              "    </tr>\n",
              "    <tr>\n",
              "      <th>4</th>\n",
              "      <td>5</td>\n",
              "      <td>1504</td>\n",
              "      <td>CL</td>\n",
              "      <td>Placebo</td>\n",
              "      <td>13918</td>\n",
              "      <td>F</td>\n",
              "      <td>N</td>\n",
              "      <td>Y</td>\n",
              "      <td>Y</td>\n",
              "      <td>N</td>\n",
              "      <td>3.4</td>\n",
              "      <td>279.0</td>\n",
              "      <td>3.53</td>\n",
              "      <td>143.0</td>\n",
              "      <td>671.0</td>\n",
              "      <td>113.15</td>\n",
              "      <td>72.0</td>\n",
              "      <td>136.0</td>\n",
              "      <td>10.9</td>\n",
              "      <td>3.0</td>\n",
              "    </tr>\n",
              "  </tbody>\n",
              "</table>\n",
              "</div>\n",
              "      <button class=\"colab-df-convert\" onclick=\"convertToInteractive('df-1c8abe21-853d-442c-80f1-0de598e348fa')\"\n",
              "              title=\"Convert this dataframe to an interactive table.\"\n",
              "              style=\"display:none;\">\n",
              "        \n",
              "  <svg xmlns=\"http://www.w3.org/2000/svg\" height=\"24px\"viewBox=\"0 0 24 24\"\n",
              "       width=\"24px\">\n",
              "    <path d=\"M0 0h24v24H0V0z\" fill=\"none\"/>\n",
              "    <path d=\"M18.56 5.44l.94 2.06.94-2.06 2.06-.94-2.06-.94-.94-2.06-.94 2.06-2.06.94zm-11 1L8.5 8.5l.94-2.06 2.06-.94-2.06-.94L8.5 2.5l-.94 2.06-2.06.94zm10 10l.94 2.06.94-2.06 2.06-.94-2.06-.94-.94-2.06-.94 2.06-2.06.94z\"/><path d=\"M17.41 7.96l-1.37-1.37c-.4-.4-.92-.59-1.43-.59-.52 0-1.04.2-1.43.59L10.3 9.45l-7.72 7.72c-.78.78-.78 2.05 0 2.83L4 21.41c.39.39.9.59 1.41.59.51 0 1.02-.2 1.41-.59l7.78-7.78 2.81-2.81c.8-.78.8-2.07 0-2.86zM5.41 20L4 18.59l7.72-7.72 1.47 1.35L5.41 20z\"/>\n",
              "  </svg>\n",
              "      </button>\n",
              "      \n",
              "  <style>\n",
              "    .colab-df-container {\n",
              "      display:flex;\n",
              "      flex-wrap:wrap;\n",
              "      gap: 12px;\n",
              "    }\n",
              "\n",
              "    .colab-df-convert {\n",
              "      background-color: #E8F0FE;\n",
              "      border: none;\n",
              "      border-radius: 50%;\n",
              "      cursor: pointer;\n",
              "      display: none;\n",
              "      fill: #1967D2;\n",
              "      height: 32px;\n",
              "      padding: 0 0 0 0;\n",
              "      width: 32px;\n",
              "    }\n",
              "\n",
              "    .colab-df-convert:hover {\n",
              "      background-color: #E2EBFA;\n",
              "      box-shadow: 0px 1px 2px rgba(60, 64, 67, 0.3), 0px 1px 3px 1px rgba(60, 64, 67, 0.15);\n",
              "      fill: #174EA6;\n",
              "    }\n",
              "\n",
              "    [theme=dark] .colab-df-convert {\n",
              "      background-color: #3B4455;\n",
              "      fill: #D2E3FC;\n",
              "    }\n",
              "\n",
              "    [theme=dark] .colab-df-convert:hover {\n",
              "      background-color: #434B5C;\n",
              "      box-shadow: 0px 1px 3px 1px rgba(0, 0, 0, 0.15);\n",
              "      filter: drop-shadow(0px 1px 2px rgba(0, 0, 0, 0.3));\n",
              "      fill: #FFFFFF;\n",
              "    }\n",
              "  </style>\n",
              "\n",
              "      <script>\n",
              "        const buttonEl =\n",
              "          document.querySelector('#df-1c8abe21-853d-442c-80f1-0de598e348fa button.colab-df-convert');\n",
              "        buttonEl.style.display =\n",
              "          google.colab.kernel.accessAllowed ? 'block' : 'none';\n",
              "\n",
              "        async function convertToInteractive(key) {\n",
              "          const element = document.querySelector('#df-1c8abe21-853d-442c-80f1-0de598e348fa');\n",
              "          const dataTable =\n",
              "            await google.colab.kernel.invokeFunction('convertToInteractive',\n",
              "                                                     [key], {});\n",
              "          if (!dataTable) return;\n",
              "\n",
              "          const docLinkHtml = 'Like what you see? Visit the ' +\n",
              "            '<a target=\"_blank\" href=https://colab.research.google.com/notebooks/data_table.ipynb>data table notebook</a>'\n",
              "            + ' to learn more about interactive tables.';\n",
              "          element.innerHTML = '';\n",
              "          dataTable['output_type'] = 'display_data';\n",
              "          await google.colab.output.renderOutput(dataTable, element);\n",
              "          const docLink = document.createElement('div');\n",
              "          docLink.innerHTML = docLinkHtml;\n",
              "          element.appendChild(docLink);\n",
              "        }\n",
              "      </script>\n",
              "    </div>\n",
              "  </div>\n",
              "  "
            ]
          },
          "metadata": {},
          "execution_count": 4
        }
      ]
    },
    {
      "cell_type": "code",
      "source": [
        "cirrhosis.info()"
      ],
      "metadata": {
        "colab": {
          "base_uri": "https://localhost:8080/"
        },
        "id": "WmDTAphQbCgd",
        "outputId": "086256b6-26a1-471b-de5f-282b61dc9091"
      },
      "execution_count": 5,
      "outputs": [
        {
          "output_type": "stream",
          "name": "stdout",
          "text": [
            "<class 'pandas.core.frame.DataFrame'>\n",
            "RangeIndex: 418 entries, 0 to 417\n",
            "Data columns (total 20 columns):\n",
            " #   Column         Non-Null Count  Dtype  \n",
            "---  ------         --------------  -----  \n",
            " 0   ID             418 non-null    int64  \n",
            " 1   N_Days         418 non-null    int64  \n",
            " 2   Status         418 non-null    object \n",
            " 3   Drug           312 non-null    object \n",
            " 4   Age            418 non-null    int64  \n",
            " 5   Sex            418 non-null    object \n",
            " 6   Ascites        312 non-null    object \n",
            " 7   Hepatomegaly   312 non-null    object \n",
            " 8   Spiders        312 non-null    object \n",
            " 9   Edema          418 non-null    object \n",
            " 10  Bilirubin      418 non-null    float64\n",
            " 11  Cholesterol    284 non-null    float64\n",
            " 12  Albumin        418 non-null    float64\n",
            " 13  Copper         310 non-null    float64\n",
            " 14  Alk_Phos       312 non-null    float64\n",
            " 15  SGOT           312 non-null    float64\n",
            " 16  Tryglicerides  282 non-null    float64\n",
            " 17  Platelets      407 non-null    float64\n",
            " 18  Prothrombin    416 non-null    float64\n",
            " 19  Stage          412 non-null    float64\n",
            "dtypes: float64(10), int64(3), object(7)\n",
            "memory usage: 65.4+ KB\n"
          ]
        }
      ]
    },
    {
      "cell_type": "code",
      "source": [
        "cirrhosis.shape"
      ],
      "metadata": {
        "colab": {
          "base_uri": "https://localhost:8080/"
        },
        "id": "s5QQPNAyc4cx",
        "outputId": "cbdb2600-9aa6-4bd9-9b8e-dc1fabc50141"
      },
      "execution_count": 6,
      "outputs": [
        {
          "output_type": "execute_result",
          "data": {
            "text/plain": [
              "(418, 20)"
            ]
          },
          "metadata": {},
          "execution_count": 6
        }
      ]
    },
    {
      "cell_type": "markdown",
      "source": [
        "## How many features does the data have?\n",
        "* There are 19 features in this data set. "
      ],
      "metadata": {
        "id": "M2ogqaJMZclD"
      }
    },
    {
      "cell_type": "markdown",
      "source": [
        "## What is the target?\n",
        "* The target is Drug (placebo or D-penicillamine)"
      ],
      "metadata": {
        "id": "dbX1uUEKdbdp"
      }
    },
    {
      "cell_type": "markdown",
      "source": [
        "## How many rows are in the dataset?"
      ],
      "metadata": {
        "id": "QJMWjpIwdMUp"
      }
    },
    {
      "cell_type": "code",
      "source": [
        "# Display the number of rows and columns for the dataframe\n",
        "cirrhosis.shape\n",
        "print(f'There are {cirrhosis.shape[0]} rows, and {cirrhosis.shape[1]} columns.')\n",
        "print(f'The rows represent {cirrhosis.shape[0]} observations, and the columns represent {cirrhosis.shape[1]-1} features and 1 target variable.')"
      ],
      "metadata": {
        "colab": {
          "base_uri": "https://localhost:8080/"
        },
        "id": "H5iUA95VU9JG",
        "outputId": "9b2ac52c-c753-43c1-c918-17853dcd4e90"
      },
      "execution_count": 7,
      "outputs": [
        {
          "output_type": "stream",
          "name": "stdout",
          "text": [
            "There are 418 rows, and 20 columns.\n",
            "The rows represent 418 observations, and the columns represent 19 features and 1 target variable.\n"
          ]
        }
      ]
    },
    {
      "cell_type": "markdown",
      "source": [
        "## Brief Decscription of Data \n",
        "\n",
        "Data Source: https://www.kaggle.com/datasets/fedesoriano/cirrhosis-prediction-dataset\n",
        "\n",
        "Total of 424 PBC patients that was referred by ther Mayo clinic during a ten-year interval had met an eligible criteria for a randomized placebo-control trial of the drug D-penicillamine. For the first 312 patients that participated in this clinical trial. However, 112 patients did not participate in the clinical trial, but consented to have the basic measurements recorded and siz of the cases were lost to follow-up shortly after diagnosis. \n",
        "\n",
        "Below is a description of the columns: \n",
        "\n",
        "> * ID: Unique Identifier \n",
        "* N_Days: number of days between registration and the earlier of death, transplantation, or study analysis time in July 1986\n",
        "* Status: status of the patient C (censored), CL (censored due to liver tx), or D (death)\n",
        "* Drug: type of drug D-penicillamine or placebo\n",
        "* Age: age in [days]\n",
        "* Sex: M (male) or F (female)\n",
        "* Ascites: presence of ascites N (No) or Y (Yes)\n",
        "* Hepatomegaly: presence of hepatomegaly N (No) or Y (Yes)\n",
        "* Spiders: presence of spiders N (No) or Y (Yes)\n",
        "* Edema: presence of edema N (no edema and no diuretic therapy for edema), S (edema present without diuretics, or edema resolved by diuretics), or Y (edema despite diuretic therapy)\n",
        "* Bilirubin: serum bilirubin in [mg/dl]\n",
        "* Cholesterol: serum cholesterol in [mg/dl]\n",
        "* Albumin: albumin in [gm/dl]\n",
        "* Copper: urine copper in [ug/day]\n",
        "* Alk_Phos: alkaline phosphatase in [U/liter]\n",
        "* SGOT: SGOT in [U/ml]\n",
        "* Triglycerides: triglicerides in [mg/dl]\n",
        "* Platelets: platelets per cubic [ml/1000]\n",
        "* Prothrombin: prothrombin time in seconds [s]\n",
        "* Stage: histologic stage of disease (1, 2, 3, or 4)\n",
        "\n",
        "\n",
        "\n",
        "\n"
      ],
      "metadata": {
        "id": "-GkRLWndXAz8"
      }
    },
    {
      "cell_type": "markdown",
      "source": [
        "## Is this a classification or regression problem?\n",
        "> * This is a classification problem "
      ],
      "metadata": {
        "id": "ATMTm-ioZMIV"
      }
    },
    {
      "cell_type": "markdown",
      "source": [
        "## What, if any, challenges do you foresee in cleaning, exploring, or modeling this dataset?\n",
        "> * Some challanges I forsee is probably exploring this data because there are a lot of columns in this data set. Additionally, I may have some challanges with cleaning because there may be rows that I have to replace because the data is not the same or there maybe a lot of missing data that I have to impute. "
      ],
      "metadata": {
        "id": "ERuDz9ewYtEa"
      }
    },
    {
      "cell_type": "markdown",
      "source": [
        "## Cleaning Data"
      ],
      "metadata": {
        "id": "4XixfiJHQu9E"
      }
    },
    {
      "cell_type": "code",
      "source": [
        "cirrhosis.duplicated().sum()"
      ],
      "metadata": {
        "colab": {
          "base_uri": "https://localhost:8080/"
        },
        "id": "FV6YeHN3QukU",
        "outputId": "8a025a8c-42e3-4da0-a141-2284665c1091"
      },
      "execution_count": 11,
      "outputs": [
        {
          "output_type": "execute_result",
          "data": {
            "text/plain": [
              "0"
            ]
          },
          "metadata": {},
          "execution_count": 11
        }
      ]
    },
    {
      "cell_type": "markdown",
      "source": [
        "There are no duplicates. "
      ],
      "metadata": {
        "id": "sdgK-WrWRTzk"
      }
    },
    {
      "cell_type": "code",
      "source": [
        "cirrhosis.nunique()"
      ],
      "metadata": {
        "colab": {
          "base_uri": "https://localhost:8080/"
        },
        "id": "znAOzqFaRP3o",
        "outputId": "f94e9571-765b-4292-aa42-dbe91dad701c"
      },
      "execution_count": 12,
      "outputs": [
        {
          "output_type": "execute_result",
          "data": {
            "text/plain": [
              "ID               418\n",
              "N_Days           399\n",
              "Status             3\n",
              "Drug               2\n",
              "Age              344\n",
              "Sex                2\n",
              "Ascites            2\n",
              "Hepatomegaly       2\n",
              "Spiders            2\n",
              "Edema              3\n",
              "Bilirubin         98\n",
              "Cholesterol      201\n",
              "Albumin          154\n",
              "Copper           158\n",
              "Alk_Phos         295\n",
              "SGOT             179\n",
              "Tryglicerides    146\n",
              "Platelets        243\n",
              "Prothrombin       48\n",
              "Stage              4\n",
              "dtype: int64"
            ]
          },
          "metadata": {},
          "execution_count": 12
        }
      ]
    },
    {
      "cell_type": "markdown",
      "source": [
        "Looking at the dataset the \"ID\" column is unnecessary because this is only being used as a unique identifier "
      ],
      "metadata": {
        "id": "-f3-nSMSRjFo"
      }
    },
    {
      "cell_type": "code",
      "source": [
        "# Drops the ID column\n",
        "cirrhosis.drop(columns=\"ID\", inplace=True)"
      ],
      "metadata": {
        "id": "k6x4JtRmRZ8Y"
      },
      "execution_count": 13,
      "outputs": []
    },
    {
      "cell_type": "code",
      "source": [
        "cirrhosis.info()"
      ],
      "metadata": {
        "colab": {
          "base_uri": "https://localhost:8080/"
        },
        "id": "cp3yo3sIR-pG",
        "outputId": "4c67206e-14a3-4205-c371-dd674fb60803"
      },
      "execution_count": 14,
      "outputs": [
        {
          "output_type": "stream",
          "name": "stdout",
          "text": [
            "<class 'pandas.core.frame.DataFrame'>\n",
            "RangeIndex: 418 entries, 0 to 417\n",
            "Data columns (total 19 columns):\n",
            " #   Column         Non-Null Count  Dtype  \n",
            "---  ------         --------------  -----  \n",
            " 0   N_Days         418 non-null    int64  \n",
            " 1   Status         418 non-null    object \n",
            " 2   Drug           312 non-null    object \n",
            " 3   Age            418 non-null    int64  \n",
            " 4   Sex            418 non-null    object \n",
            " 5   Ascites        312 non-null    object \n",
            " 6   Hepatomegaly   312 non-null    object \n",
            " 7   Spiders        312 non-null    object \n",
            " 8   Edema          418 non-null    object \n",
            " 9   Bilirubin      418 non-null    float64\n",
            " 10  Cholesterol    284 non-null    float64\n",
            " 11  Albumin        418 non-null    float64\n",
            " 12  Copper         310 non-null    float64\n",
            " 13  Alk_Phos       312 non-null    float64\n",
            " 14  SGOT           312 non-null    float64\n",
            " 15  Tryglicerides  282 non-null    float64\n",
            " 16  Platelets      407 non-null    float64\n",
            " 17  Prothrombin    416 non-null    float64\n",
            " 18  Stage          412 non-null    float64\n",
            "dtypes: float64(10), int64(2), object(7)\n",
            "memory usage: 62.2+ KB\n"
          ]
        }
      ]
    },
    {
      "cell_type": "code",
      "source": [
        "cat_cols = make_column_selector(dtype_include='object')(cirrhosis)\n",
        "for col in cat_cols:\n",
        "  display(cirrhosis[col].value_counts())"
      ],
      "metadata": {
        "colab": {
          "base_uri": "https://localhost:8080/",
          "height": 416
        },
        "id": "0aPFnZStR__E",
        "outputId": "3f22e99d-4ea8-4b3c-e7e9-6fd3378f15bb"
      },
      "execution_count": 28,
      "outputs": [
        {
          "output_type": "display_data",
          "data": {
            "text/plain": [
              "C     232\n",
              "D     161\n",
              "CL     25\n",
              "Name: Status, dtype: int64"
            ]
          },
          "metadata": {}
        },
        {
          "output_type": "display_data",
          "data": {
            "text/plain": [
              "D-penicillamine    158\n",
              "Placebo            154\n",
              "Name: Drug, dtype: int64"
            ]
          },
          "metadata": {}
        },
        {
          "output_type": "display_data",
          "data": {
            "text/plain": [
              "F    374\n",
              "M     44\n",
              "Name: Sex, dtype: int64"
            ]
          },
          "metadata": {}
        },
        {
          "output_type": "display_data",
          "data": {
            "text/plain": [
              "N    288\n",
              "Y     24\n",
              "Name: Ascites, dtype: int64"
            ]
          },
          "metadata": {}
        },
        {
          "output_type": "display_data",
          "data": {
            "text/plain": [
              "Y    160\n",
              "N    152\n",
              "Name: Hepatomegaly, dtype: int64"
            ]
          },
          "metadata": {}
        },
        {
          "output_type": "display_data",
          "data": {
            "text/plain": [
              "N    222\n",
              "Y     90\n",
              "Name: Spiders, dtype: int64"
            ]
          },
          "metadata": {}
        },
        {
          "output_type": "display_data",
          "data": {
            "text/plain": [
              "N    354\n",
              "S     44\n",
              "Y     20\n",
              "Name: Edema, dtype: int64"
            ]
          },
          "metadata": {}
        }
      ]
    },
    {
      "cell_type": "markdown",
      "source": [
        "There are no outliers in the categorial columns "
      ],
      "metadata": {
        "id": "llDjYq06Xs4u"
      }
    },
    {
      "cell_type": "code",
      "source": [
        "# Get summary stats to hopefully discern some outliers\n",
        "cirrhosis.describe()"
      ],
      "metadata": {
        "colab": {
          "base_uri": "https://localhost:8080/",
          "height": 300
        },
        "id": "cWwRu3sLS4sh",
        "outputId": "8c3ab9df-3251-42c4-de87-88b716324392"
      },
      "execution_count": 24,
      "outputs": [
        {
          "output_type": "execute_result",
          "data": {
            "text/plain": [
              "            N_Days           Age   Bilirubin  Cholesterol     Albumin  \\\n",
              "count   418.000000    418.000000  418.000000   284.000000  418.000000   \n",
              "mean   1917.782297  18533.351675    3.220813   369.510563    3.497440   \n",
              "std    1104.672992   3815.845055    4.407506   231.944545    0.424972   \n",
              "min      41.000000   9598.000000    0.300000   120.000000    1.960000   \n",
              "25%    1092.750000  15644.500000    0.800000   249.500000    3.242500   \n",
              "50%    1730.000000  18628.000000    1.400000   309.500000    3.530000   \n",
              "75%    2613.500000  21272.500000    3.400000   400.000000    3.770000   \n",
              "max    4795.000000  28650.000000   28.000000  1775.000000    4.640000   \n",
              "\n",
              "           Copper      Alk_Phos        SGOT  Tryglicerides   Platelets  \\\n",
              "count  310.000000    312.000000  312.000000     282.000000  407.000000   \n",
              "mean    97.648387   1982.655769  122.556346     124.702128  257.024570   \n",
              "std     85.613920   2140.388824   56.699525      65.148639   98.325585   \n",
              "min      4.000000    289.000000   26.350000      33.000000   62.000000   \n",
              "25%     41.250000    871.500000   80.600000      84.250000  188.500000   \n",
              "50%     73.000000   1259.000000  114.700000     108.000000  251.000000   \n",
              "75%    123.000000   1980.000000  151.900000     151.000000  318.000000   \n",
              "max    588.000000  13862.400000  457.250000     598.000000  721.000000   \n",
              "\n",
              "       Prothrombin       Stage  \n",
              "count   416.000000  412.000000  \n",
              "mean     10.731731    3.024272  \n",
              "std       1.022000    0.882042  \n",
              "min       9.000000    1.000000  \n",
              "25%      10.000000    2.000000  \n",
              "50%      10.600000    3.000000  \n",
              "75%      11.100000    4.000000  \n",
              "max      18.000000    4.000000  "
            ],
            "text/html": [
              "\n",
              "  <div id=\"df-3c92b0d3-d4d5-4d26-917c-9f54fe03c158\">\n",
              "    <div class=\"colab-df-container\">\n",
              "      <div>\n",
              "<style scoped>\n",
              "    .dataframe tbody tr th:only-of-type {\n",
              "        vertical-align: middle;\n",
              "    }\n",
              "\n",
              "    .dataframe tbody tr th {\n",
              "        vertical-align: top;\n",
              "    }\n",
              "\n",
              "    .dataframe thead th {\n",
              "        text-align: right;\n",
              "    }\n",
              "</style>\n",
              "<table border=\"1\" class=\"dataframe\">\n",
              "  <thead>\n",
              "    <tr style=\"text-align: right;\">\n",
              "      <th></th>\n",
              "      <th>N_Days</th>\n",
              "      <th>Age</th>\n",
              "      <th>Bilirubin</th>\n",
              "      <th>Cholesterol</th>\n",
              "      <th>Albumin</th>\n",
              "      <th>Copper</th>\n",
              "      <th>Alk_Phos</th>\n",
              "      <th>SGOT</th>\n",
              "      <th>Tryglicerides</th>\n",
              "      <th>Platelets</th>\n",
              "      <th>Prothrombin</th>\n",
              "      <th>Stage</th>\n",
              "    </tr>\n",
              "  </thead>\n",
              "  <tbody>\n",
              "    <tr>\n",
              "      <th>count</th>\n",
              "      <td>418.000000</td>\n",
              "      <td>418.000000</td>\n",
              "      <td>418.000000</td>\n",
              "      <td>284.000000</td>\n",
              "      <td>418.000000</td>\n",
              "      <td>310.000000</td>\n",
              "      <td>312.000000</td>\n",
              "      <td>312.000000</td>\n",
              "      <td>282.000000</td>\n",
              "      <td>407.000000</td>\n",
              "      <td>416.000000</td>\n",
              "      <td>412.000000</td>\n",
              "    </tr>\n",
              "    <tr>\n",
              "      <th>mean</th>\n",
              "      <td>1917.782297</td>\n",
              "      <td>18533.351675</td>\n",
              "      <td>3.220813</td>\n",
              "      <td>369.510563</td>\n",
              "      <td>3.497440</td>\n",
              "      <td>97.648387</td>\n",
              "      <td>1982.655769</td>\n",
              "      <td>122.556346</td>\n",
              "      <td>124.702128</td>\n",
              "      <td>257.024570</td>\n",
              "      <td>10.731731</td>\n",
              "      <td>3.024272</td>\n",
              "    </tr>\n",
              "    <tr>\n",
              "      <th>std</th>\n",
              "      <td>1104.672992</td>\n",
              "      <td>3815.845055</td>\n",
              "      <td>4.407506</td>\n",
              "      <td>231.944545</td>\n",
              "      <td>0.424972</td>\n",
              "      <td>85.613920</td>\n",
              "      <td>2140.388824</td>\n",
              "      <td>56.699525</td>\n",
              "      <td>65.148639</td>\n",
              "      <td>98.325585</td>\n",
              "      <td>1.022000</td>\n",
              "      <td>0.882042</td>\n",
              "    </tr>\n",
              "    <tr>\n",
              "      <th>min</th>\n",
              "      <td>41.000000</td>\n",
              "      <td>9598.000000</td>\n",
              "      <td>0.300000</td>\n",
              "      <td>120.000000</td>\n",
              "      <td>1.960000</td>\n",
              "      <td>4.000000</td>\n",
              "      <td>289.000000</td>\n",
              "      <td>26.350000</td>\n",
              "      <td>33.000000</td>\n",
              "      <td>62.000000</td>\n",
              "      <td>9.000000</td>\n",
              "      <td>1.000000</td>\n",
              "    </tr>\n",
              "    <tr>\n",
              "      <th>25%</th>\n",
              "      <td>1092.750000</td>\n",
              "      <td>15644.500000</td>\n",
              "      <td>0.800000</td>\n",
              "      <td>249.500000</td>\n",
              "      <td>3.242500</td>\n",
              "      <td>41.250000</td>\n",
              "      <td>871.500000</td>\n",
              "      <td>80.600000</td>\n",
              "      <td>84.250000</td>\n",
              "      <td>188.500000</td>\n",
              "      <td>10.000000</td>\n",
              "      <td>2.000000</td>\n",
              "    </tr>\n",
              "    <tr>\n",
              "      <th>50%</th>\n",
              "      <td>1730.000000</td>\n",
              "      <td>18628.000000</td>\n",
              "      <td>1.400000</td>\n",
              "      <td>309.500000</td>\n",
              "      <td>3.530000</td>\n",
              "      <td>73.000000</td>\n",
              "      <td>1259.000000</td>\n",
              "      <td>114.700000</td>\n",
              "      <td>108.000000</td>\n",
              "      <td>251.000000</td>\n",
              "      <td>10.600000</td>\n",
              "      <td>3.000000</td>\n",
              "    </tr>\n",
              "    <tr>\n",
              "      <th>75%</th>\n",
              "      <td>2613.500000</td>\n",
              "      <td>21272.500000</td>\n",
              "      <td>3.400000</td>\n",
              "      <td>400.000000</td>\n",
              "      <td>3.770000</td>\n",
              "      <td>123.000000</td>\n",
              "      <td>1980.000000</td>\n",
              "      <td>151.900000</td>\n",
              "      <td>151.000000</td>\n",
              "      <td>318.000000</td>\n",
              "      <td>11.100000</td>\n",
              "      <td>4.000000</td>\n",
              "    </tr>\n",
              "    <tr>\n",
              "      <th>max</th>\n",
              "      <td>4795.000000</td>\n",
              "      <td>28650.000000</td>\n",
              "      <td>28.000000</td>\n",
              "      <td>1775.000000</td>\n",
              "      <td>4.640000</td>\n",
              "      <td>588.000000</td>\n",
              "      <td>13862.400000</td>\n",
              "      <td>457.250000</td>\n",
              "      <td>598.000000</td>\n",
              "      <td>721.000000</td>\n",
              "      <td>18.000000</td>\n",
              "      <td>4.000000</td>\n",
              "    </tr>\n",
              "  </tbody>\n",
              "</table>\n",
              "</div>\n",
              "      <button class=\"colab-df-convert\" onclick=\"convertToInteractive('df-3c92b0d3-d4d5-4d26-917c-9f54fe03c158')\"\n",
              "              title=\"Convert this dataframe to an interactive table.\"\n",
              "              style=\"display:none;\">\n",
              "        \n",
              "  <svg xmlns=\"http://www.w3.org/2000/svg\" height=\"24px\"viewBox=\"0 0 24 24\"\n",
              "       width=\"24px\">\n",
              "    <path d=\"M0 0h24v24H0V0z\" fill=\"none\"/>\n",
              "    <path d=\"M18.56 5.44l.94 2.06.94-2.06 2.06-.94-2.06-.94-.94-2.06-.94 2.06-2.06.94zm-11 1L8.5 8.5l.94-2.06 2.06-.94-2.06-.94L8.5 2.5l-.94 2.06-2.06.94zm10 10l.94 2.06.94-2.06 2.06-.94-2.06-.94-.94-2.06-.94 2.06-2.06.94z\"/><path d=\"M17.41 7.96l-1.37-1.37c-.4-.4-.92-.59-1.43-.59-.52 0-1.04.2-1.43.59L10.3 9.45l-7.72 7.72c-.78.78-.78 2.05 0 2.83L4 21.41c.39.39.9.59 1.41.59.51 0 1.02-.2 1.41-.59l7.78-7.78 2.81-2.81c.8-.78.8-2.07 0-2.86zM5.41 20L4 18.59l7.72-7.72 1.47 1.35L5.41 20z\"/>\n",
              "  </svg>\n",
              "      </button>\n",
              "      \n",
              "  <style>\n",
              "    .colab-df-container {\n",
              "      display:flex;\n",
              "      flex-wrap:wrap;\n",
              "      gap: 12px;\n",
              "    }\n",
              "\n",
              "    .colab-df-convert {\n",
              "      background-color: #E8F0FE;\n",
              "      border: none;\n",
              "      border-radius: 50%;\n",
              "      cursor: pointer;\n",
              "      display: none;\n",
              "      fill: #1967D2;\n",
              "      height: 32px;\n",
              "      padding: 0 0 0 0;\n",
              "      width: 32px;\n",
              "    }\n",
              "\n",
              "    .colab-df-convert:hover {\n",
              "      background-color: #E2EBFA;\n",
              "      box-shadow: 0px 1px 2px rgba(60, 64, 67, 0.3), 0px 1px 3px 1px rgba(60, 64, 67, 0.15);\n",
              "      fill: #174EA6;\n",
              "    }\n",
              "\n",
              "    [theme=dark] .colab-df-convert {\n",
              "      background-color: #3B4455;\n",
              "      fill: #D2E3FC;\n",
              "    }\n",
              "\n",
              "    [theme=dark] .colab-df-convert:hover {\n",
              "      background-color: #434B5C;\n",
              "      box-shadow: 0px 1px 3px 1px rgba(0, 0, 0, 0.15);\n",
              "      filter: drop-shadow(0px 1px 2px rgba(0, 0, 0, 0.3));\n",
              "      fill: #FFFFFF;\n",
              "    }\n",
              "  </style>\n",
              "\n",
              "      <script>\n",
              "        const buttonEl =\n",
              "          document.querySelector('#df-3c92b0d3-d4d5-4d26-917c-9f54fe03c158 button.colab-df-convert');\n",
              "        buttonEl.style.display =\n",
              "          google.colab.kernel.accessAllowed ? 'block' : 'none';\n",
              "\n",
              "        async function convertToInteractive(key) {\n",
              "          const element = document.querySelector('#df-3c92b0d3-d4d5-4d26-917c-9f54fe03c158');\n",
              "          const dataTable =\n",
              "            await google.colab.kernel.invokeFunction('convertToInteractive',\n",
              "                                                     [key], {});\n",
              "          if (!dataTable) return;\n",
              "\n",
              "          const docLinkHtml = 'Like what you see? Visit the ' +\n",
              "            '<a target=\"_blank\" href=https://colab.research.google.com/notebooks/data_table.ipynb>data table notebook</a>'\n",
              "            + ' to learn more about interactive tables.';\n",
              "          element.innerHTML = '';\n",
              "          dataTable['output_type'] = 'display_data';\n",
              "          await google.colab.output.renderOutput(dataTable, element);\n",
              "          const docLink = document.createElement('div');\n",
              "          docLink.innerHTML = docLinkHtml;\n",
              "          element.appendChild(docLink);\n",
              "        }\n",
              "      </script>\n",
              "    </div>\n",
              "  </div>\n",
              "  "
            ]
          },
          "metadata": {},
          "execution_count": 24
        }
      ]
    },
    {
      "cell_type": "markdown",
      "source": [
        "There are no concerning outliers in this set "
      ],
      "metadata": {
        "id": "WSSDZII8TBri"
      }
    },
    {
      "cell_type": "code",
      "source": [
        "# Check for missing values\n",
        "cirrhosis.isna().sum()"
      ],
      "metadata": {
        "colab": {
          "base_uri": "https://localhost:8080/"
        },
        "id": "Y82feHjhTKSl",
        "outputId": "d08d9681-ec72-4af4-e1b8-f5f0eb373777"
      },
      "execution_count": 25,
      "outputs": [
        {
          "output_type": "execute_result",
          "data": {
            "text/plain": [
              "N_Days             0\n",
              "Status             0\n",
              "Drug             106\n",
              "Age                0\n",
              "Sex                0\n",
              "Ascites          106\n",
              "Hepatomegaly     106\n",
              "Spiders          106\n",
              "Edema              0\n",
              "Bilirubin          0\n",
              "Cholesterol      134\n",
              "Albumin            0\n",
              "Copper           108\n",
              "Alk_Phos         106\n",
              "SGOT             106\n",
              "Tryglicerides    136\n",
              "Platelets         11\n",
              "Prothrombin        2\n",
              "Stage              6\n",
              "dtype: int64"
            ]
          },
          "metadata": {},
          "execution_count": 25
        }
      ]
    },
    {
      "cell_type": "markdown",
      "source": [
        "We will handle these missing values when we preprocess our data to avoid any data leakage. "
      ],
      "metadata": {
        "id": "RVGqxv9pU3rj"
      }
    },
    {
      "cell_type": "markdown",
      "source": [
        "## Exploratory Univariate Visuals"
      ],
      "metadata": {
        "id": "JcB8P3vaVCbB"
      }
    },
    {
      "cell_type": "code",
      "source": [
        "cirrhosis.info()"
      ],
      "metadata": {
        "colab": {
          "base_uri": "https://localhost:8080/"
        },
        "id": "3XYa4YhFVGZ6",
        "outputId": "adde4fcd-2971-4663-c07f-6af31da06eed"
      },
      "execution_count": 29,
      "outputs": [
        {
          "output_type": "stream",
          "name": "stdout",
          "text": [
            "<class 'pandas.core.frame.DataFrame'>\n",
            "RangeIndex: 418 entries, 0 to 417\n",
            "Data columns (total 19 columns):\n",
            " #   Column         Non-Null Count  Dtype  \n",
            "---  ------         --------------  -----  \n",
            " 0   N_Days         418 non-null    int64  \n",
            " 1   Status         418 non-null    object \n",
            " 2   Drug           312 non-null    object \n",
            " 3   Age            418 non-null    int64  \n",
            " 4   Sex            418 non-null    object \n",
            " 5   Ascites        312 non-null    object \n",
            " 6   Hepatomegaly   312 non-null    object \n",
            " 7   Spiders        312 non-null    object \n",
            " 8   Edema          418 non-null    object \n",
            " 9   Bilirubin      418 non-null    float64\n",
            " 10  Cholesterol    284 non-null    float64\n",
            " 11  Albumin        418 non-null    float64\n",
            " 12  Copper         310 non-null    float64\n",
            " 13  Alk_Phos       312 non-null    float64\n",
            " 14  SGOT           312 non-null    float64\n",
            " 15  Tryglicerides  282 non-null    float64\n",
            " 16  Platelets      407 non-null    float64\n",
            " 17  Prothrombin    416 non-null    float64\n",
            " 18  Stage          412 non-null    float64\n",
            "dtypes: float64(10), int64(2), object(7)\n",
            "memory usage: 62.2+ KB\n"
          ]
        }
      ]
    },
    {
      "cell_type": "code",
      "source": [
        "fig = plt.figure(figsize =(8, 5))\n",
        "ax = sns.boxplot( x=\"Bilirubin\", data=cirrhosis)\n",
        "ax.set_title(\"Bilirubin Levels\", fontsize = 15);\n",
        "ax.set_xlabel('');"
      ],
      "metadata": {
        "colab": {
          "base_uri": "https://localhost:8080/",
          "height": 470
        },
        "id": "fGLwhEMVVL-h",
        "outputId": "ddbd84ed-20da-447a-dacf-284172ab240d"
      },
      "execution_count": 35,
      "outputs": [
        {
          "output_type": "display_data",
          "data": {
            "text/plain": [
              "<Figure size 800x500 with 1 Axes>"
            ],
            "image/png": "[encoded data removed]"
          },
          "metadata": {}
        }
      ]
    },
    {
      "cell_type": "markdown",
      "source": [
        "The outliers is anything over 5mg/dL"
      ],
      "metadata": {
        "id": "UMzTpgl_VwWC"
      }
    },
    {
      "cell_type": "code",
      "source": [
        "sns.countplot(data=cirrhosis, x=\"Stage\").set_title(\"Disease Stage\");"
      ],
      "metadata": {
        "colab": {
          "base_uri": "https://localhost:8080/",
          "height": 472
        },
        "id": "xPkkJq_UV0c0",
        "outputId": "c5bd6f35-e7d3-44a7-bbdd-228d28e49406"
      },
      "execution_count": 36,
      "outputs": [
        {
          "output_type": "display_data",
          "data": {
            "text/plain": [
              "<Figure size 640x480 with 1 Axes>"
            ],
            "image/png": "[encoded data removed]"
          },
          "metadata": {}
        }
      ]
    },
    {
      "cell_type": "markdown",
      "source": [
        "The majority of the patients are in Stage 3 while the minority of patients are in Stage 1. "
      ],
      "metadata": {
        "id": "z5G86rqWWFVh"
      }
    },
    {
      "cell_type": "code",
      "source": [
        "fig = plt.figure(figsize =(8, 5))\n",
        "ax = sns.histplot( x = \"Status\", data=cirrhosis)\n",
        "plt.xticks(rotation=45)\n",
        "ax.set_ylabel('Number of Patients',fontsize = 15)\n",
        "ax.set_xlabel('Patient Status', fontsize = 15)\n",
        "ax.set_title(\"Status\", fontsize = 15);"
      ],
      "metadata": {
        "colab": {
          "base_uri": "https://localhost:8080/",
          "height": 503
        },
        "id": "qVuwMtYLWTTc",
        "outputId": "5138003d-33d7-406b-e9e8-8dd0b29d7233"
      },
      "execution_count": 38,
      "outputs": [
        {
          "output_type": "display_data",
          "data": {
            "text/plain": [
              "<Figure size 800x500 with 1 Axes>"
            ],
            "image/png": "[encoded data removed]"
          },
          "metadata": {}
        }
      ]
    },
    {
      "cell_type": "markdown",
      "source": [
        "Majority of patients are censored while the minority is censored due to liver tx and the average of patients are deceased. "
      ],
      "metadata": {
        "id": "FLJXZX6KWrmp"
      }
    },
    {
      "cell_type": "code",
      "source": [
        "fig = plt.figure(figsize =(8, 5))\n",
        "ax = sns.histplot( x = \"Ascites\", data=cirrhosis)\n",
        "plt.xticks(rotation=45)\n",
        "ax.set_ylabel('Number of Patients',fontsize = 15)\n",
        "ax.set_xlabel('Patients with or without Ascites', fontsize = 15)\n",
        "ax.set_title(\"Ascites\", fontsize = 15);"
      ],
      "metadata": {
        "colab": {
          "base_uri": "https://localhost:8080/",
          "height": 498
        },
        "id": "h8Nn3XR0XPXL",
        "outputId": "75ec6b22-88fd-4ad9-daba-b2d7bd290121"
      },
      "execution_count": 40,
      "outputs": [
        {
          "output_type": "display_data",
          "data": {
            "text/plain": [
              "<Figure size 800x500 with 1 Axes>"
            ],
            "image/png": "[encoded data removed]"
          },
          "metadata": {}
        }
      ]
    },
    {
      "cell_type": "markdown",
      "source": [
        "Majority of patients do not have Ascites"
      ],
      "metadata": {
        "id": "eJZd5c_kX78G"
      }
    },
    {
      "cell_type": "code",
      "source": [
        "corr = cirrhosis.corr()\n",
        "sns.heatmap(corr, cmap = 'Purples', annot = True)\n",
        "plt.show()"
      ],
      "metadata": {
        "colab": {
          "base_uri": "https://localhost:8080/",
          "height": 509
        },
        "id": "bxAkHviwYSXm",
        "outputId": "799d1c21-d9a4-45b3-9d98-942dbdf0162c"
      },
      "execution_count": 41,
      "outputs": [
        {
          "output_type": "display_data",
          "data": {
            "text/plain": [
              "<Figure size 640x480 with 2 Axes>"
            ],
            "image/png": "[encoded data removed]"
          },
          "metadata": {}
        }
      ]
    }
  ]
}